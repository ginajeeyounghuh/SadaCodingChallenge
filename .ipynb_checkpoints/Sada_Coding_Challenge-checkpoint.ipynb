{
 "cells": [
  {
   "cell_type": "markdown",
   "metadata": {
    "colab_type": "text",
    "id": "MdcYvX9bl9nS"
   },
   "source": [
    "# Question 1\n",
    "# Gina Huh"
   ]
  },
  {
   "cell_type": "markdown",
   "metadata": {
    "colab_type": "text",
    "id": "TV9e079vn-SP"
   },
   "source": [
    "## Part 1: Show Number of Rows"
   ]
  },
  {
   "cell_type": "code",
   "execution_count": 10,
   "metadata": {
    "colab": {},
    "colab_type": "code",
    "collapsed": true,
    "id": "IcPO7pWAl7H_"
   },
   "outputs": [],
   "source": [
    "import pandas as pd\n",
    "import numpy as np\n",
    "import seaborn as sns\n",
    "import numbers\n",
    "import csv, json"
   ]
  },
  {
   "cell_type": "code",
   "execution_count": 2,
   "metadata": {
    "colab": {},
    "colab_type": "code",
    "collapsed": true,
    "id": "OjMsWK-VmQWo"
   },
   "outputs": [],
   "source": [
    "# Read csv file\n",
    "data = pd.read_csv('data.csv')"
   ]
  },
  {
   "cell_type": "code",
   "execution_count": 3,
   "metadata": {
    "colab": {
     "base_uri": "https://localhost:8080/",
     "height": 204
    },
    "colab_type": "code",
    "id": "c_Up8-CKmfZQ",
    "outputId": "df2a292f-d967-4853-d8c1-7d2aa1ea9c3b"
   },
   "outputs": [
    {
     "data": {
      "text/html": [
       "<div>\n",
       "<style>\n",
       "    .dataframe thead tr:only-child th {\n",
       "        text-align: right;\n",
       "    }\n",
       "\n",
       "    .dataframe thead th {\n",
       "        text-align: left;\n",
       "    }\n",
       "\n",
       "    .dataframe tbody tr th {\n",
       "        vertical-align: top;\n",
       "    }\n",
       "</style>\n",
       "<table border=\"1\" class=\"dataframe\">\n",
       "  <thead>\n",
       "    <tr style=\"text-align: right;\">\n",
       "      <th></th>\n",
       "      <th>Year</th>\n",
       "      <th>Rank</th>\n",
       "      <th>Company</th>\n",
       "      <th>Revenue (in millions)</th>\n",
       "      <th>Profit (in millions)</th>\n",
       "    </tr>\n",
       "  </thead>\n",
       "  <tbody>\n",
       "    <tr>\n",
       "      <th>0</th>\n",
       "      <td>1955</td>\n",
       "      <td>1</td>\n",
       "      <td>General Motors</td>\n",
       "      <td>9823.5</td>\n",
       "      <td>806</td>\n",
       "    </tr>\n",
       "    <tr>\n",
       "      <th>1</th>\n",
       "      <td>1955</td>\n",
       "      <td>2</td>\n",
       "      <td>Exxon Mobil</td>\n",
       "      <td>5661.4</td>\n",
       "      <td>584.8</td>\n",
       "    </tr>\n",
       "    <tr>\n",
       "      <th>2</th>\n",
       "      <td>1955</td>\n",
       "      <td>3</td>\n",
       "      <td>U.S. Steel</td>\n",
       "      <td>3250.4</td>\n",
       "      <td>195.4</td>\n",
       "    </tr>\n",
       "    <tr>\n",
       "      <th>3</th>\n",
       "      <td>1955</td>\n",
       "      <td>4</td>\n",
       "      <td>General Electric</td>\n",
       "      <td>2959.1</td>\n",
       "      <td>212.6</td>\n",
       "    </tr>\n",
       "    <tr>\n",
       "      <th>4</th>\n",
       "      <td>1955</td>\n",
       "      <td>5</td>\n",
       "      <td>Esmark</td>\n",
       "      <td>2510.8</td>\n",
       "      <td>19.1</td>\n",
       "    </tr>\n",
       "  </tbody>\n",
       "</table>\n",
       "</div>"
      ],
      "text/plain": [
       "   Year  Rank           Company  Revenue (in millions) Profit (in millions)\n",
       "0  1955     1    General Motors                 9823.5                  806\n",
       "1  1955     2       Exxon Mobil                 5661.4                584.8\n",
       "2  1955     3        U.S. Steel                 3250.4                195.4\n",
       "3  1955     4  General Electric                 2959.1                212.6\n",
       "4  1955     5            Esmark                 2510.8                 19.1"
      ]
     },
     "execution_count": 3,
     "metadata": {},
     "output_type": "execute_result"
    }
   ],
   "source": [
    "# Show first 5 rows of the 'data' dataframe\n",
    "data.head()"
   ]
  },
  {
   "cell_type": "code",
   "execution_count": 4,
   "metadata": {
    "colab": {
     "base_uri": "https://localhost:8080/",
     "height": 34
    },
    "colab_type": "code",
    "id": "U7B_hifZmozJ",
    "outputId": "a81cc74f-3cf4-4f27-d916-ce72240c9d83"
   },
   "outputs": [
    {
     "name": "stdout",
     "output_type": "stream",
     "text": [
      "There are  25500  rows in the original data csv file.\n"
     ]
    }
   ],
   "source": [
    "# Print the number of rows in the data frame (rows,columns)\n",
    "print('There are ', data.shape[0], ' rows in the original data csv file.')"
   ]
  },
  {
   "cell_type": "markdown",
   "metadata": {
    "colab_type": "text",
    "id": "A1PMbW9fm4r2"
   },
   "source": [
    "### **Answer 1**: 25,500 rows\n"
   ]
  },
  {
   "cell_type": "markdown",
   "metadata": {
    "colab_type": "text",
    "id": "WYfTyKesoDkU"
   },
   "source": [
    "## Part 2: Remove Non-numeric Rows in Profit Column"
   ]
  },
  {
   "cell_type": "code",
   "execution_count": 5,
   "metadata": {
    "colab": {
     "base_uri": "https://localhost:8080/",
     "height": 221
    },
    "colab_type": "code",
    "id": "qnvk9KdpnUrT",
    "outputId": "279d6ac7-647d-4e8d-ba24-26b5f3366fc7"
   },
   "outputs": [
    {
     "data": {
      "text/plain": [
       "<bound method Series.unique of 0           806\n",
       "1         584.8\n",
       "2         195.4\n",
       "3         212.6\n",
       "4          19.1\n",
       "5          18.5\n",
       "6           1.6\n",
       "7         182.8\n",
       "8         183.8\n",
       "9         344.4\n",
       "10        132.8\n",
       "11        117.2\n",
       "12         84.6\n",
       "13        226.1\n",
       "14         55.8\n",
       "15        121.1\n",
       "16         37.4\n",
       "17        211.9\n",
       "18         48.1\n",
       "19           37\n",
       "20         91.6\n",
       "21         36.3\n",
       "22         40.5\n",
       "23         89.8\n",
       "24         40.5\n",
       "25         36.2\n",
       "26         52.3\n",
       "27         52.9\n",
       "28         43.7\n",
       "29         76.2\n",
       "          ...  \n",
       "25470     306.4\n",
       "25471     359.9\n",
       "25472     235.8\n",
       "25473    -118.5\n",
       "25474     131.9\n",
       "25475      14.9\n",
       "25476     409.1\n",
       "25477       257\n",
       "25478     137.1\n",
       "25479     -2165\n",
       "25480     215.6\n",
       "25481    -181.9\n",
       "25482     192.4\n",
       "25483     111.6\n",
       "25484       524\n",
       "25485      N.A.\n",
       "25486       188\n",
       "25487     331.2\n",
       "25488      64.9\n",
       "25489        49\n",
       "25490      -458\n",
       "25491       154\n",
       "25492      71.8\n",
       "25493       328\n",
       "25494    -567.6\n",
       "25495       493\n",
       "25496     175.4\n",
       "25497      57.8\n",
       "25498      70.6\n",
       "25499       584\n",
       "Name: Profit (in millions), Length: 25500, dtype: object>"
      ]
     },
     "execution_count": 5,
     "metadata": {},
     "output_type": "execute_result"
    }
   ],
   "source": [
    "# Show unique values in the 'Profit' column\n",
    "data['Profit (in millions)'].unique"
   ]
  },
  {
   "cell_type": "code",
   "execution_count": 6,
   "metadata": {
    "colab": {},
    "colab_type": "code",
    "collapsed": true,
    "id": "Nf1ONfUS73pC"
   },
   "outputs": [],
   "source": [
    "# Convert all non-numeric values to null (nan)\n",
    "data['Profit (in millions)'] = pd.to_numeric(data['Profit (in millions)'], errors='coerce')"
   ]
  },
  {
   "cell_type": "code",
   "execution_count": 114,
   "metadata": {
    "colab": {
     "base_uri": "https://localhost:8080/",
     "height": 119
    },
    "colab_type": "code",
    "id": "D8RLY5bW8rSu",
    "outputId": "d7a41ac1-9f9b-44b2-b7b7-d5c94d0509ab"
   },
   "outputs": [
    {
     "data": {
      "text/plain": [
       "Year                       0\n",
       "Rank                       0\n",
       "Company                    0\n",
       "Revenue (in millions)      0\n",
       "Profit (in millions)     369\n",
       "dtype: int64"
      ]
     },
     "execution_count": 114,
     "metadata": {
      "tags": []
     },
     "output_type": "execute_result"
    }
   ],
   "source": [
    "# How many null values are there in total? \n",
    "data.isna().sum()"
   ]
  },
  {
   "cell_type": "code",
   "execution_count": 7,
   "metadata": {
    "colab": {},
    "colab_type": "code",
    "collapsed": true,
    "id": "QO-t0BQM774f"
   },
   "outputs": [],
   "source": [
    "# Drop all rows with null(nan) values\n",
    "data_cut = data.dropna()"
   ]
  },
  {
   "cell_type": "code",
   "execution_count": 8,
   "metadata": {
    "colab": {
     "base_uri": "https://localhost:8080/",
     "height": 34
    },
    "colab_type": "code",
    "id": "QFSG35Ng9sWA",
    "outputId": "709e07b2-cb3d-425d-897c-d2f3eb03190f"
   },
   "outputs": [
    {
     "name": "stdout",
     "output_type": "stream",
     "text": [
      "There are  25131 rows after dropping non-numeric values in the profit column.\n"
     ]
    }
   ],
   "source": [
    "# Print the number of rows in the data after dropping non-numeric\n",
    "print('There are ', data_cut.shape[0], 'rows after dropping non-numeric values in the profit column.')"
   ]
  },
  {
   "cell_type": "markdown",
   "metadata": {
    "colab_type": "text",
    "id": "kN3py6xo_Kc_"
   },
   "source": [
    "### **Answer 2**: 25,131 rows"
   ]
  },
  {
   "cell_type": "markdown",
   "metadata": {
    "colab_type": "text",
    "id": "khccimWp-_ZW"
   },
   "source": [
    "## Part 3: Write Data to JSON File"
   ]
  },
  {
   "cell_type": "code",
   "execution_count": 19,
   "metadata": {},
   "outputs": [],
   "source": [
    "# Set the index to 'Year' column\n",
    "data_cut = data_cut.set_index('Year')"
   ]
  },
  {
   "cell_type": "code",
   "execution_count": 22,
   "metadata": {},
   "outputs": [],
   "source": [
    "# Convert data_cut into csv file\n",
    "data_cut.to_csv('data_cut.csv')"
   ]
  },
  {
   "cell_type": "code",
   "execution_count": 23,
   "metadata": {},
   "outputs": [],
   "source": [
    "# Open files \n",
    "csvfile = open('data_cut.csv', 'r')\n",
    "jsonfile = open('data2.json', 'w')\n",
    "\n",
    "# Columns that need to be read/written\n",
    "columns = ('Year', 'Rank','Company','Revenue (in millions)', 'Profit (in millions)')\n",
    "\n",
    "# Maps information in each row to a dict\n",
    "reader = csv.DictReader(csvfile, columns)\n",
    "\n",
    "# Write each row to the JSON file\n",
    "for row in reader:\n",
    "    json.dump(row, jsonfile)\n",
    "    jsonfile.write('\\n')"
   ]
  },
  {
   "cell_type": "markdown",
   "metadata": {},
   "source": [
    "## Part 4: Show Top 20 Rows with Highest Profit Values"
   ]
  },
  {
   "cell_type": "code",
   "execution_count": 24,
   "metadata": {
    "collapsed": true
   },
   "outputs": [],
   "source": [
    "# Order data based on profit\n",
    "data_sorted = data_cut.sort_values(by=['Profit (in millions)'], ascending=False)"
   ]
  },
  {
   "cell_type": "markdown",
   "metadata": {},
   "source": [
    "### Answer 3:"
   ]
  },
  {
   "cell_type": "code",
   "execution_count": 26,
   "metadata": {},
   "outputs": [
    {
     "data": {
      "text/html": [
       "<div>\n",
       "<style>\n",
       "    .dataframe thead tr:only-child th {\n",
       "        text-align: right;\n",
       "    }\n",
       "\n",
       "    .dataframe thead th {\n",
       "        text-align: left;\n",
       "    }\n",
       "\n",
       "    .dataframe tbody tr th {\n",
       "        vertical-align: top;\n",
       "    }\n",
       "</style>\n",
       "<table border=\"1\" class=\"dataframe\">\n",
       "  <thead>\n",
       "    <tr style=\"text-align: right;\">\n",
       "      <th></th>\n",
       "      <th>Rank</th>\n",
       "      <th>Company</th>\n",
       "      <th>Revenue (in millions)</th>\n",
       "      <th>Profit (in millions)</th>\n",
       "    </tr>\n",
       "    <tr>\n",
       "      <th>Year</th>\n",
       "      <th></th>\n",
       "      <th></th>\n",
       "      <th></th>\n",
       "      <th></th>\n",
       "    </tr>\n",
       "  </thead>\n",
       "  <tbody>\n",
       "    <tr>\n",
       "      <th>2005</th>\n",
       "      <td>2</td>\n",
       "      <td>Exxon Mobil</td>\n",
       "      <td>270772.0</td>\n",
       "      <td>25330.0</td>\n",
       "    </tr>\n",
       "    <tr>\n",
       "      <th>1999</th>\n",
       "      <td>2</td>\n",
       "      <td>Ford Motor</td>\n",
       "      <td>144416.0</td>\n",
       "      <td>22071.0</td>\n",
       "    </tr>\n",
       "    <tr>\n",
       "      <th>2004</th>\n",
       "      <td>2</td>\n",
       "      <td>Exxon Mobil</td>\n",
       "      <td>213199.0</td>\n",
       "      <td>21510.0</td>\n",
       "    </tr>\n",
       "    <tr>\n",
       "      <th>2004</th>\n",
       "      <td>8</td>\n",
       "      <td>Citigroup</td>\n",
       "      <td>94713.0</td>\n",
       "      <td>17853.0</td>\n",
       "    </tr>\n",
       "    <tr>\n",
       "      <th>2001</th>\n",
       "      <td>1</td>\n",
       "      <td>Exxon Mobil</td>\n",
       "      <td>210392.0</td>\n",
       "      <td>17720.0</td>\n",
       "    </tr>\n",
       "    <tr>\n",
       "      <th>2005</th>\n",
       "      <td>8</td>\n",
       "      <td>Citigroup</td>\n",
       "      <td>108276.0</td>\n",
       "      <td>17046.0</td>\n",
       "    </tr>\n",
       "    <tr>\n",
       "      <th>2005</th>\n",
       "      <td>5</td>\n",
       "      <td>General Electric</td>\n",
       "      <td>152363.0</td>\n",
       "      <td>16593.0</td>\n",
       "    </tr>\n",
       "    <tr>\n",
       "      <th>2002</th>\n",
       "      <td>2</td>\n",
       "      <td>Exxon Mobil</td>\n",
       "      <td>191581.0</td>\n",
       "      <td>15320.0</td>\n",
       "    </tr>\n",
       "    <tr>\n",
       "      <th>2003</th>\n",
       "      <td>6</td>\n",
       "      <td>Citigroup</td>\n",
       "      <td>100789.0</td>\n",
       "      <td>15276.0</td>\n",
       "    </tr>\n",
       "    <tr>\n",
       "      <th>2004</th>\n",
       "      <td>5</td>\n",
       "      <td>General Electric</td>\n",
       "      <td>134187.0</td>\n",
       "      <td>15002.0</td>\n",
       "    </tr>\n",
       "    <tr>\n",
       "      <th>2005</th>\n",
       "      <td>18</td>\n",
       "      <td>Bank of America Corp.</td>\n",
       "      <td>63324.0</td>\n",
       "      <td>14143.0</td>\n",
       "    </tr>\n",
       "    <tr>\n",
       "      <th>2002</th>\n",
       "      <td>7</td>\n",
       "      <td>Citigroup</td>\n",
       "      <td>112022.0</td>\n",
       "      <td>14126.0</td>\n",
       "    </tr>\n",
       "    <tr>\n",
       "      <th>2003</th>\n",
       "      <td>5</td>\n",
       "      <td>General Electric</td>\n",
       "      <td>131698.0</td>\n",
       "      <td>14118.0</td>\n",
       "    </tr>\n",
       "    <tr>\n",
       "      <th>2002</th>\n",
       "      <td>6</td>\n",
       "      <td>General Electric</td>\n",
       "      <td>125913.0</td>\n",
       "      <td>13684.0</td>\n",
       "    </tr>\n",
       "    <tr>\n",
       "      <th>2001</th>\n",
       "      <td>6</td>\n",
       "      <td>Citigroup</td>\n",
       "      <td>111826.0</td>\n",
       "      <td>13519.0</td>\n",
       "    </tr>\n",
       "    <tr>\n",
       "      <th>2005</th>\n",
       "      <td>6</td>\n",
       "      <td>ChevronTexaco</td>\n",
       "      <td>147967.0</td>\n",
       "      <td>13328.0</td>\n",
       "    </tr>\n",
       "    <tr>\n",
       "      <th>2001</th>\n",
       "      <td>5</td>\n",
       "      <td>General Electric</td>\n",
       "      <td>129853.0</td>\n",
       "      <td>12735.0</td>\n",
       "    </tr>\n",
       "    <tr>\n",
       "      <th>2001</th>\n",
       "      <td>10</td>\n",
       "      <td>Verizon Communications</td>\n",
       "      <td>64707.0</td>\n",
       "      <td>11797.0</td>\n",
       "    </tr>\n",
       "    <tr>\n",
       "      <th>2003</th>\n",
       "      <td>3</td>\n",
       "      <td>Exxon Mobil</td>\n",
       "      <td>182466.0</td>\n",
       "      <td>11460.0</td>\n",
       "    </tr>\n",
       "    <tr>\n",
       "      <th>2005</th>\n",
       "      <td>24</td>\n",
       "      <td>Pfizer</td>\n",
       "      <td>52921.0</td>\n",
       "      <td>11361.0</td>\n",
       "    </tr>\n",
       "  </tbody>\n",
       "</table>\n",
       "</div>"
      ],
      "text/plain": [
       "      Rank                 Company  Revenue (in millions)  \\\n",
       "Year                                                        \n",
       "2005     2             Exxon Mobil               270772.0   \n",
       "1999     2              Ford Motor               144416.0   \n",
       "2004     2             Exxon Mobil               213199.0   \n",
       "2004     8               Citigroup                94713.0   \n",
       "2001     1             Exxon Mobil               210392.0   \n",
       "2005     8               Citigroup               108276.0   \n",
       "2005     5        General Electric               152363.0   \n",
       "2002     2             Exxon Mobil               191581.0   \n",
       "2003     6               Citigroup               100789.0   \n",
       "2004     5        General Electric               134187.0   \n",
       "2005    18   Bank of America Corp.                63324.0   \n",
       "2002     7               Citigroup               112022.0   \n",
       "2003     5        General Electric               131698.0   \n",
       "2002     6        General Electric               125913.0   \n",
       "2001     6               Citigroup               111826.0   \n",
       "2005     6           ChevronTexaco               147967.0   \n",
       "2001     5        General Electric               129853.0   \n",
       "2001    10  Verizon Communications                64707.0   \n",
       "2003     3             Exxon Mobil               182466.0   \n",
       "2005    24                  Pfizer                52921.0   \n",
       "\n",
       "      Profit (in millions)  \n",
       "Year                        \n",
       "2005               25330.0  \n",
       "1999               22071.0  \n",
       "2004               21510.0  \n",
       "2004               17853.0  \n",
       "2001               17720.0  \n",
       "2005               17046.0  \n",
       "2005               16593.0  \n",
       "2002               15320.0  \n",
       "2003               15276.0  \n",
       "2004               15002.0  \n",
       "2005               14143.0  \n",
       "2002               14126.0  \n",
       "2003               14118.0  \n",
       "2002               13684.0  \n",
       "2001               13519.0  \n",
       "2005               13328.0  \n",
       "2001               12735.0  \n",
       "2001               11797.0  \n",
       "2003               11460.0  \n",
       "2005               11361.0  "
      ]
     },
     "execution_count": 26,
     "metadata": {},
     "output_type": "execute_result"
    }
   ],
   "source": [
    "# Print top 20 rows with highest profits values\n",
    "data_sorted.head(20)"
   ]
  },
  {
   "cell_type": "markdown",
   "metadata": {},
   "source": [
    "## Functions for Part 1 - Part 4"
   ]
  },
  {
   "cell_type": "markdown",
   "metadata": {},
   "source": [
    "Modularity is important in coding, so I created separate functions for each functionality (parts 1 through 4). Modular programming makes it easier to re-use code and also allows development to be divded based on functionality. Also, programming errors are easier to detect. "
   ]
  },
  {
   "cell_type": "code",
   "execution_count": 44,
   "metadata": {},
   "outputs": [],
   "source": [
    "def show_rows(df):\n",
    "    print('There are ', df.shape[0], ' rows in the data.', '\\n')\n",
    "    \n",
    "def drop_rows(df):\n",
    "    \n",
    "    # Convert all non-numeric values to null (nan)\n",
    "    df['Profit (in millions)'] = pd.to_numeric(df['Profit (in millions)'], errors='coerce')\n",
    "    \n",
    "    # Drop all rows with null(nan) values\n",
    "    data_cut = df.dropna()\n",
    "    \n",
    "    print('After dropping non-numeric rows:')\n",
    "    show_rows(data_cut)\n",
    "    \n",
    "    return data_cut\n",
    "    \n",
    "def to_json(df):\n",
    "    \n",
    "    # Set the index to 'Year' column\n",
    "    data_cut = df.set_index('Year')\n",
    "    \n",
    "    # Convert data_cut into csv file\n",
    "    data_cut.to_csv('data_cut.csv')\n",
    "    \n",
    "    # Open files \n",
    "    csvfile = open('data_cut.csv', 'r')\n",
    "    jsonfile = open('data2.json', 'w')\n",
    "\n",
    "    # Columns that need to be read/written\n",
    "    columns = ('Year', 'Rank','Company','Revenue (in millions)', 'Profit (in millions)')\n",
    "\n",
    "    # Maps information in each row to a dict\n",
    "    reader = csv.DictReader(csvfile, columns)\n",
    "\n",
    "    # Write each row to the JSON file\n",
    "    for row in reader:\n",
    "        json.dump(row, jsonfile)\n",
    "        jsonfile.write('\\n')\n",
    "        \n",
    "    print('The csv file has been converted to a json file.', '\\n')\n",
    "\n",
    "def top_20(df):\n",
    "    \n",
    "    # Order data based on profit\n",
    "    data_sorted = df.sort_values(by=['Profit (in millions)'], ascending=False)\n",
    "    \n",
    "    # Print top 20 rows with highest profits values\n",
    "    print('Here are the top 20 rows with highest profit values: ', '\\n', data_sorted.head(20))"
   ]
  },
  {
   "cell_type": "code",
   "execution_count": 45,
   "metadata": {
    "collapsed": true
   },
   "outputs": [],
   "source": [
    "def main():\n",
    "    # Read csv file\n",
    "    data = pd.read_csv('data.csv')\n",
    "    \n",
    "    # Part 1\n",
    "    show_rows(data)\n",
    "    \n",
    "    # Part 2\n",
    "    data_cut = drop_rows(data)\n",
    "    \n",
    "    # Part 3\n",
    "    to_json(data_cut)\n",
    "    \n",
    "    #Part 4\n",
    "    top_20(data_cut)"
   ]
  },
  {
   "cell_type": "code",
   "execution_count": 46,
   "metadata": {},
   "outputs": [
    {
     "name": "stdout",
     "output_type": "stream",
     "text": [
      "There are  25500  rows in the data. \n",
      "\n",
      "After dropping non-numeric rows:\n",
      "There are  25131  rows in the data. \n",
      "\n",
      "The csv file has been converted to a json file. \n",
      "\n",
      "Here are the top 20 rows with highest profit values:  \n",
      "        Year  Rank                 Company  Revenue (in millions)  \\\n",
      "25001  2005     2             Exxon Mobil               270772.0   \n",
      "22001  1999     2              Ford Motor               144416.0   \n",
      "24501  2004     2             Exxon Mobil               213199.0   \n",
      "24507  2004     8               Citigroup                94713.0   \n",
      "23000  2001     1             Exxon Mobil               210392.0   \n",
      "25007  2005     8               Citigroup               108276.0   \n",
      "25004  2005     5        General Electric               152363.0   \n",
      "23501  2002     2             Exxon Mobil               191581.0   \n",
      "24005  2003     6               Citigroup               100789.0   \n",
      "24504  2004     5        General Electric               134187.0   \n",
      "25017  2005    18   Bank of America Corp.                63324.0   \n",
      "23506  2002     7               Citigroup               112022.0   \n",
      "24004  2003     5        General Electric               131698.0   \n",
      "23505  2002     6        General Electric               125913.0   \n",
      "23005  2001     6               Citigroup               111826.0   \n",
      "25005  2005     6           ChevronTexaco               147967.0   \n",
      "23004  2001     5        General Electric               129853.0   \n",
      "23009  2001    10  Verizon Communications                64707.0   \n",
      "24002  2003     3             Exxon Mobil               182466.0   \n",
      "25023  2005    24                  Pfizer                52921.0   \n",
      "\n",
      "       Profit (in millions)  \n",
      "25001               25330.0  \n",
      "22001               22071.0  \n",
      "24501               21510.0  \n",
      "24507               17853.0  \n",
      "23000               17720.0  \n",
      "25007               17046.0  \n",
      "25004               16593.0  \n",
      "23501               15320.0  \n",
      "24005               15276.0  \n",
      "24504               15002.0  \n",
      "25017               14143.0  \n",
      "23506               14126.0  \n",
      "24004               14118.0  \n",
      "23505               13684.0  \n",
      "23005               13519.0  \n",
      "25005               13328.0  \n",
      "23004               12735.0  \n",
      "23009               11797.0  \n",
      "24002               11460.0  \n",
      "25023               11361.0  \n"
     ]
    }
   ],
   "source": [
    "main()"
   ]
  }
 ],
 "metadata": {
  "colab": {
   "collapsed_sections": [],
   "name": "Sada Coding Challenge",
   "provenance": []
  },
  "kernelspec": {
   "display_name": "Python 3",
   "language": "python",
   "name": "python3"
  },
  "language_info": {
   "codemirror_mode": {
    "name": "ipython",
    "version": 3
   },
   "file_extension": ".py",
   "mimetype": "text/x-python",
   "name": "python",
   "nbconvert_exporter": "python",
   "pygments_lexer": "ipython3",
   "version": "3.6.3"
  }
 },
 "nbformat": 4,
 "nbformat_minor": 1
}
